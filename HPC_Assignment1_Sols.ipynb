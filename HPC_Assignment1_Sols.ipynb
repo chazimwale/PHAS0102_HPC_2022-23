{
 "cells": [
  {
   "cell_type": "markdown",
   "metadata": {},
   "source": [
    "## PHAS0102 Assignment 1 - Matrix Multiplication in Numba\n",
    "\n",
    "### Student Number: 19008330\n",
    "\n",
    "Grade: 19/20 (95%)"
   ]
  },
  {
   "cell_type": "markdown",
   "metadata": {},
   "source": [
    "# Part 1 Objectives\n",
    "\n",
    "- 1.1. Desgining a ``faster_matrix_product`` that computes the product of two matrixes more efficiently than the ``slow_matrix_product``\n",
    "\n",
    "- 1.2. Explaining why my function is better than the ``slow_matrix_product`` \n",
    "\n",
    "- 1.3. Write a function that runs the two functions for matrices of a range of sizes and usematplotlib to create a plot showing the time taken for ``slow_matrix_product`` to ``faster_matrix_product``. "
   ]
  },
  {
   "cell_type": "markdown",
   "metadata": {},
   "source": [
    "### 1.1 - Faster Matrix Multiplication"
   ]
  },
  {
   "cell_type": "code",
   "execution_count": 1,
   "metadata": {},
   "outputs": [],
   "source": [
    "import numpy as np\n",
    "import matplotlib.pyplot as plt\n",
    "from numba import jit, njit\n",
    "from timeit import timeit"
   ]
  },
  {
   "cell_type": "code",
   "execution_count": 17,
   "metadata": {},
   "outputs": [],
   "source": [
    "# The Slow Matrix Product from the Assignment Sheet\n",
    "\n",
    "def slow_matrix_product(mat1, mat2):\n",
    "    assert mat1.shape[1] == mat2.shape[0]\n",
    "    result = []\n",
    "    for c in range(mat2.shape[1]):\n",
    "        column = []\n",
    "        for r in range(mat1.shape[0]):\n",
    "            value = 0\n",
    "            for i in range(mat1.shape[1]):\n",
    "                value += mat1[r, i] * mat2[i, c]\n",
    "            column.append(value)\n",
    "        result.append(column)\n",
    "    return np.array(result).transpose()\n",
    "\n",
    "\n",
    "# Faster matrix multiplication function\n",
    "\n",
    "def faster_matrix_product(m1,m2):\n",
    "    assert m1.shape[1] == m2.shape[0]\n",
    "    product = np.zeros(shape = (m1.shape[0], m2.shape[1]))\n",
    "    m2 = m2.transpose()\n",
    "    '''\n",
    "     Product matrix must  have the shape of the first matrix's\n",
    "     rows and the second matrix's columns.\n",
    "    '''\n",
    "    for c in range(m2.shape[0]):\n",
    "        product[c] = np.dot(m1,m2[c])\n",
    "    '''\n",
    "    I previously used two for loops and took elements of the \n",
    "    second matrix in the loop. However, just taking the elements\n",
    "    over the first row and projecting it onto the second also seemed \n",
    "    to work and obtain the correct matrix.\n",
    "    '''\n",
    "    return product.transpose()\n",
    "\n",
    "# Creating a range of values for the dimension of the matrix\n",
    "test_dimes = range(2,6)\n",
    "for n in test_dimes:\n",
    "    m1 = np.random.rand(n,n)\n",
    "    m2 = np.random.rand(n,n)\n",
    "    # Ensuring both matrix product functions obtains the correct matrix product\n",
    "    assert np.allclose(slow_matrix_product(m1, m2), m1 @ m2)\n",
    "    assert np.allclose(faster_matrix_product(m1, m2), m1 @ m2)\n",
    "\n"
   ]
  },
  {
   "cell_type": "markdown",
   "metadata": {},
   "source": [
    "### 1.2 Explaining why my function is better.\n",
    "\n",
    "A combination of the ``assert`` statemenet and ``np.allclose()`` function demonstrate that the ``faster_matrix_product`` function correctly computes the product of two matrices. \n",
    "\n",
    "The ``faster_matrix_product`` is superior to the ``slow_matrix_product`` for the following reasons: \n",
    "\n",
    "1. ``faster_matrix_product`` utilises one for loop in with the ``np.dot()`` function which is significantly faster than executing three for loops to operate one component at a time for each row on matrix 1 and each column on matrix 2. This would result in the computation being of order $\\mathbb{O}(n)$ instead of $\\mathbb{O}(n^{3})$, where the exponent represents the number of for loops.\n",
    "\n",
    "2. The ``np.dot()`` within the inner for loop of the ``faster_matrix_product`` computes the product the matrix product each column at a time instead of each component at a time from matrix 1 and matrix 2, which is shown to be significantly faster than the ``slow_matrix_product``.\n",
    "\n",
    "\n",
    "\n"
   ]
  },
  {
   "cell_type": "markdown",
   "metadata": {},
   "source": [
    "### 1.3 Writing a function to determine runtime for each function and demonstrating the difference via a plot"
   ]
  },
  {
   "cell_type": "code",
   "execution_count": 3,
   "metadata": {},
   "outputs": [],
   "source": [
    "# I've used a nested function to allow for the matrix product functions to be\n",
    "# written as arguments within the timing function. This uses the inbuilt timit \n",
    "# function \n",
    "\n",
    "def func_time(operator,runs,style):\n",
    "    def time_run(operator,m1,m2,runs):\n",
    "        assign = {'slow_matrix_product' : slow_matrix_product , \n",
    "        'faster_matrix_product' : faster_matrix_product, \n",
    "        'm1': m1, 'm2': m2}\n",
    "        '''\n",
    "        I've used a nested function in addition to a lambda function\n",
    "        to allow for the matrix product functions to be accepted as\n",
    "        arguments within the timing function. An argument for the number\n",
    "        of runs has also been included to obtain an effective average runtime\n",
    "        if the function is fast enough to compute it.\n",
    "        '''\n",
    "        return timeit(lambda: operator(m1,m2), number = runs, globals = assign)\n",
    "        \n",
    "    dimes = np.array([1,2,5,10,20,50,100,200,300,400,500,600,700,800,900,1000])\n",
    "    \n",
    "    \"\"\" \n",
    "    Entering the number of dimensions of an n x n matrix\n",
    "    as an array of values for np.random.rand(n,n) to collect the time\n",
    "    taken for the functions to compute the matrix product. \n",
    "    \"\"\"\n",
    "    \n",
    "    output = []\n",
    "    for n in dimes:\n",
    "        m1 = np.random.rand(n,n)\n",
    "        m2 = np.random.rand(n,n)\n",
    "        fm1 = np.asfortranarray(m1)\n",
    "        fm2 = np.asfortranarray(m2) \n",
    "\n",
    "        '''I've designed this function to also easily deal with\n",
    "        matrix transformations regardless of array ordering. The style\n",
    "        argument allows us to chose the ordering. '''\n",
    "        \n",
    "        if style == \"cc\":\n",
    "            if runs == 0:\n",
    "                break\n",
    "            if runs == 1:\n",
    "                output.append(time_run(operator,m1,m2,runs))\n",
    "            elif runs > 1:\n",
    "                output.append(time_run(operator,m1,m2,runs)/runs) \n",
    "        \n",
    "        if style == \"fc\":\n",
    "            if runs == 0:\n",
    "                break\n",
    "            if runs == 1:\n",
    "                output.append(time_run(operator,fm1,m2,runs))\n",
    "            elif runs > 1:\n",
    "                output.append(time_run(operator,fm1,m2,runs)/runs)\n",
    "        \n",
    "        if style == \"cf\":\n",
    "            if runs == 0:\n",
    "                break\n",
    "            if runs == 1:\n",
    "                output.append(time_run(operator,m1,fm2,runs))\n",
    "            elif runs > 1:\n",
    "                output.append(time_run(operator,m1,fm2,runs)/runs)\n",
    "        \n",
    "        if style == \"ff\":\n",
    "            if runs == 0:\n",
    "                break\n",
    "            if runs == 1:\n",
    "                output.append(time_run(operator,fm1,fm2,runs))\n",
    "            elif runs > 1:\n",
    "                output.append(time_run(operator,fm1,fm2,runs)/runs)       \n",
    "    return np.array(output)\n",
    "\n",
    "\n",
    "# The n x n sized matrices I want to analyse in dataset. \n",
    "dimes_array = np.array([1,2,5,10,20,50,100,200,300,400,500,600,700,800,900,1000])\n",
    "dimes = dimes_array.tolist()"
   ]
  },
  {
   "cell_type": "code",
   "execution_count": 8,
   "metadata": {},
   "outputs": [],
   "source": [
    "tf = func_time(faster_matrix_product,100,\"cc\")\n",
    "ts = func_time(slow_matrix_product,1,\"cc\")"
   ]
  },
  {
   "cell_type": "code",
   "execution_count": 9,
   "metadata": {},
   "outputs": [
    {
     "data": {
      "image/png": "[encoded data removed]",
      "text/plain": [
       "<Figure size 432x288 with 1 Axes>"
      ]
     },
     "metadata": {
      "needs_background": "light"
     },
     "output_type": "display_data"
    }
   ],
   "source": [
    "# Now to plot the runtime comparison of both functions\n",
    "\n",
    "plt.plot(dimes, ts)\n",
    "plt.plot(dimes, tf)\n",
    "plt.xlabel(\"Dimensions of $n$x$n$ matrix\")\n",
    "plt.ylabel(\"Time/s\")\n",
    "plt.title(\"Figure 1: Runtime comparison of slow and faster matrix product functions\")\n",
    "plt.legend(['slow_matrix_product()', 'faster_matrix_product()'])\n",
    "plt.show()"
   ]
  },
  {
   "cell_type": "markdown",
   "metadata": {},
   "source": [
    "As seen by Figure 1, the runtime for the ``faster_matrix_product`` is a fraction of that produced by the ``slow_matrix_product``, unequivocal proof the new function is superior to the ``slow_matrix_product``."
   ]
  },
  {
   "cell_type": "markdown",
   "metadata": {},
   "source": [
    "## Part 2: Using Numba to speed up matrix multiplication\n",
    "\n",
    "#### Objectives\n",
    "\n",
    "- 2.1 Create a copy of your function faster_matrix_product that is just-in-\n",
    "time (JIT) compiled using Numba. To demonstrate the speed improvement acheived by using Numba\n",
    "\n",
    "- 2.2 Make a plot (similar to that you made in\n",
    "the first part) that shows the times taken to multiply matrices using\n",
    "faster_matrix_product, faster_matrix_product with Numba JIT compilation, and Numpy (@). Numpy’s matrix-matrix multiplication is highly optimised, so you should not expect to be as fast is it\n",
    "\n",
    "- 2.3 You may be able to achieve further speed up of your function by adjusting the memory layout used. The function ``np.asfortanarray`` will make a copy of an array that uses Fortran-style ordering. Make a plot that compares the times taken by your JIT compiled function when the inputs have different combinations of C-style and Fortran-style ordering **comment (in 1-2 sentences) on why one of these orderings appears to be fastest that the others.**"
   ]
  },
  {
   "cell_type": "markdown",
   "metadata": {},
   "source": [
    "### 2.1 JIT compiled ``faster_matrix_product`` in numba\n",
    "### 2.2 Graph Comparing the ``faster_matrix_product_njit``, ``faster_matrix_product`` and ``numpy_matrix_product``"
   ]
  },
  {
   "cell_type": "code",
   "execution_count": 18,
   "metadata": {},
   "outputs": [],
   "source": [
    "# Creating a JIT compiled function using Numba\n",
    "\n",
    "@njit\n",
    "def faster_matrix_product_njit(m1,m2):\n",
    "    assert m1.shape[1] == m2.shape[0]\n",
    "    product = np.zeros(shape = (m1.shape[0], m2.shape[1]))\n",
    "    m2 = m2.transpose()    \n",
    "    for c in range(m2.shape[0]):\n",
    "        product[c] = np.dot(m1,m2[c])\n",
    "    return product.transpose()\n",
    "\n",
    "# The optimized @ function in numpy\n",
    "def numpy_matrix_product(m1,m2):\n",
    "    return m1 @ m2"
   ]
  },
  {
   "cell_type": "code",
   "execution_count": 20,
   "metadata": {},
   "outputs": [
    {
     "data": {
      "image/png": "[encoded data removed]",
      "text/plain": [
       "<Figure size 432x288 with 1 Axes>"
      ]
     },
     "metadata": {
      "needs_background": "light"
     },
     "output_type": "display_data"
    }
   ],
   "source": [
    "tf_array = func_time(faster_matrix_product,10,\"cc\")\n",
    "tfs_array = func_time(faster_matrix_product_njit,10,\"cc\")\n",
    "tn_array = func_time(numpy_matrix_product,10,\"cc\")\n",
    "\n",
    "tf = tf_array.tolist()\n",
    "tfs = tfs_array.tolist()\n",
    "tn = tn_array.tolist()\n",
    "\n",
    "plt.plot(dimes, tfs)\n",
    "plt.plot(dimes, tf)\n",
    "plt.plot(dimes, tn)\n",
    "plt.xlabel(\"Dimensions of $n$x$n$ matrix\")\n",
    "plt.ylabel(\"Time/s\")\n",
    "plt.title(\"Figure 2\")\n",
    "plt.legend(['fasterJIT_matrix_product()', 'faster_matrix_product()', 'numpy_matrix_product()'])\n",
    "plt.show()\n",
    "\n",
    "\n",
    "\n"
   ]
  },
  {
   "cell_type": "markdown",
   "metadata": {},
   "source": [
    "As can be seen by Figure 2 above, the ``@`` function in python is significantly faster at computing larger matrix products, seeing a slight increase in computation time. The ``faster_matrix_product_njit`` utilises the python accelerator numba and it's seen to be slightly faster than the ``faster_matrix_product`` definer earlier."
   ]
  },
  {
   "cell_type": "markdown",
   "metadata": {},
   "source": [
    "### 2.3 Plot comparing different orderings and possible explanations as to why"
   ]
  },
  {
   "cell_type": "markdown",
   "metadata": {},
   "source": [
    "Within my function ``func_time``, I provided an argument for ``style`` which takes the inputs: \"cc\", \"fc\" \"cf\" and \"ff\". \n",
    "\n",
    "The default array layout from numpy is given as c-sytle ordering, hence the \"cc\" layout is the default.\n",
    "\n",
    "\"fc\" has the first matrix given a fortan-style and the second matrix in a c-style ordering. \"cf\" has the first matrix given a cstyle and the second matrix in a fortran-style ordering. Finally \"ff\" is where both matrices are given in a fortran-style ordering. \n"
   ]
  },
  {
   "cell_type": "code",
   "execution_count": 22,
   "metadata": {},
   "outputs": [
    {
     "data": {
      "image/png": "[encoded data removed]",
      "text/plain": [
       "<Figure size 432x288 with 1 Axes>"
      ]
     },
     "metadata": {
      "needs_background": "light"
     },
     "output_type": "display_data"
    }
   ],
   "source": [
    "cc_array = func_time(faster_matrix_product_njit,1,\"cc\")\n",
    "fc_array = func_time(faster_matrix_product_njit,1,\"fc\")\n",
    "cf_array = func_time(faster_matrix_product_njit,1,\"cf\")\n",
    "ff_array = func_time(faster_matrix_product_njit,1,\"ff\")\n",
    "\n",
    "tcc = cc_array.tolist()\n",
    "tfc = fc_array.tolist()\n",
    "tcf = cf_array.tolist()\n",
    "tff = ff_array.tolist()\n",
    "\n",
    "plt.plot(dimes, tcc, \"black\")\n",
    "plt.plot(dimes, tfc, \"orange\")\n",
    "plt.plot(dimes, tcf, \"red\")\n",
    "plt.plot(dimes, tff, \"blue\")\n",
    "\n",
    "plt.xlabel(\"Dimensions of $n$x$n$ matrix\")\n",
    "plt.ylabel(\"Time/s\")\n",
    "plt.title(\"Figure 3: Memory layout style comparison\")\n",
    "plt.legend(['cc order', 'fc order', 'cf order', 'ff order'])\n",
    "plt.show()"
   ]
  },
  {
   "cell_type": "markdown",
   "metadata": {},
   "source": [
    "\n",
    "From Figure 3, one can see the fastest ordering using the ``faster_matrix_product_njit`` are as follows:\n",
    "\n",
    "\n",
    "1. \"cf\" \n",
    "2. \"fc\"\n",
    "3. \"ff\"\n",
    "4. \"cc\"\n",
    "\n",
    "Arrays are stored in fortran column by column and arrays in C are stored row by row. The \"cf\" ordering is fastest as the first matrix is stored as row vectors and the second as column, which is preferable ordering when computing the dot product over a whole column, rather than transposing various rows then computing np.dot product.\n",
    "\n",
    "The marginal differences in runtime between the four functions is a testament to the effectiveness of numba as a python accelerator. \n",
    "\n",
    "\n",
    "\n"
   ]
  },
  {
   "cell_type": "markdown",
   "metadata": {},
   "source": [
    "Final Grade = 19/20 = 95%"
   ]
  }
 ],
 "metadata": {
  "kernelspec": {
   "display_name": "Python 3.9.7 ('base')",
   "language": "python",
   "name": "python3"
  },
  "language_info": {
   "codemirror_mode": {
    "name": "ipython",
    "version": 3
   },
   "file_extension": ".py",
   "mimetype": "text/x-python",
   "name": "python",
   "nbconvert_exporter": "python",
   "pygments_lexer": "ipython3",
   "version": "3.9.7"
  },
  "orig_nbformat": 4,
  "vscode": {
   "interpreter": {
    "hash": "59935f86178168e078fcf80474e5d69591c0a24a743a95743b6051e212169869"
   }
  }
 },
 "nbformat": 4,
 "nbformat_minor": 2
}
