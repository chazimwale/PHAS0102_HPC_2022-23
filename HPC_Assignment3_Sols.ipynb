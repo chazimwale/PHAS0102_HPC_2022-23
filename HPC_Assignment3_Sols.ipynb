{
  "cells": [
    {
      "cell_type": "markdown",
      "metadata": {
        "id": "y7Usa1EQb4Ld"
      },
      "source": [
        "# Assignment 3 - Sparse Matrices\n",
        "\n",
        "## Student Number: 19008330\n",
        "\n",
        "Final Grade: 25/30 (83.3%)"
      ]
    },
    {
      "cell_type": "code",
      "execution_count": 60,
      "metadata": {
        "id": "aUMSlB3kby6P"
      },
      "outputs": [],
      "source": [
        "import numpy as np\n",
        "import matplotlib.pyplot as plt\n",
        "import numba\n",
        "import scipy\n",
        "from scipy.linalg import block_diag\n",
        "from timeit import timeit\n",
        "from scipy.sparse.linalg import LinearOperator, gmres, cg\n",
        "from scipy.sparse import coo_matrix,csc_matrix, csr_matrix, dia_matrix, dok_matrix, lil_matrix, diags\n",
        "from time import time"
      ]
    },
    {
      "cell_type": "markdown",
      "metadata": {
        "id": "UVbOMrwRb871"
      },
      "source": [
        "## Part 1: Implementing CSR Matrix\n",
        "\n",
        "### 1.1 Implementing ``__init__``, ``__add__`` and ``matvec``. "
      ]
    },
    {
      "cell_type": "code",
      "execution_count": 229,
      "metadata": {
        "id": "zMD97LfLb-J1"
      },
      "outputs": [],
      "source": [
        "class CSRMatrix(LinearOperator):\n",
        "  def __init__(self, coo_matrix):\n",
        "    # coo_matrix structure \n",
        "    self.shape = coo_matrix.shape\n",
        "    self.dtype = coo_matrix.dtype\n",
        "    coo_rows = coo_matrix.row\n",
        "    coo_cols = coo_matrix.col\n",
        "    coo_data = coo_matrix.data\n",
        "    # csr_matrix structure\n",
        "    self.data, self.indices = [],[]\n",
        "    m =  self.shape[0]\n",
        "    n = len(coo_rows)\n",
        "    # coo_data = csr_data  :  coo_cols = csr_indices\n",
        "    for i in range(m):\n",
        "      for j in range(n):\n",
        "        if i == coo_rows[j]:\n",
        "          self.data.append(coo_data[j]) \n",
        "          self.indices.append(coo_cols[j]) \n",
        "    \n",
        "    # Need robust sequence to convert coo_rows to csr_indptr\n",
        "    h = coo_rows\n",
        "    o = len(self.data)\n",
        "    self.indptr = np.zeros(n+2,dtype = np.int64) # coo_rows is now list subscriptable\n",
        "    for j in range(o):\n",
        "        #csr_indptr must be one length greater than coo_rows\n",
        "        self.indptr[h[j]+1] += 1\n",
        "    for k in range(n+1):\n",
        "        self.indptr[k+1] += self.indptr[k]\n",
        "  \n",
        "  def __add__(self, other):\n",
        "      assert self.shape == other.shape\n",
        "      add_data, add_indices, add_indptr = [],[],[]\n",
        "      add_shape = self.shape\n",
        "      \n",
        "      k = 0 # Counter to iterate over\n",
        "      for i in range(self.shape[0]): \n",
        "        #csr_indptr array always one length greater than shape\n",
        "        add_indptr.append(k)\n",
        "        self_start = self.indptr[i]\n",
        "        self_end = self.indptr[i+1] \n",
        "        other_start = other.indptr[i]\n",
        "        other_end = other.indptr[i+1]\n",
        "        for j in range(self_start,self_end): # All self.data is within this range\n",
        "          add_data.append(self.data[j])\n",
        "          add_indices.append(self.indices[j])\n",
        "          k+=1 \n",
        "        for m in range(other_start,other_end): # All other.data is within this range\n",
        "          add_data.append(other.data[m])\n",
        "          add_indices.append(other.indices[m])\n",
        "          k+=1\n",
        "        \n",
        "      add_indptr.append(k)\n",
        "      \n",
        "      return csr_matrix((add_data,add_indices,add_indptr),shape = add_shape)\n",
        "            \n",
        "  def _matvec(self, vector):\n",
        "      # Ensuring matrix-vector multiplication is valid\n",
        "      assert self.shape[1] == vector.shape[0]\n",
        "      m, n = self.shape\n",
        "      b = np.zeros(m, dtype = self.dtype) \n",
        "      for i in range(m):\n",
        "          # i is the row index\n",
        "          col_start = self.indptr[i]\n",
        "          col_end = self.indptr[i+1]\n",
        "          for j in range(col_start, col_end): # j is the column index\n",
        "              b[i] += self.data[j] * vector[self.indices[j]]\n",
        "  \n",
        "      return b"
      ]
    },
    {
      "cell_type": "markdown",
      "metadata": {
        "id": "rikW4TGmcgnc"
      },
      "source": [
        "### 1.2 Testing ``__add__`` and ``matvec`` are the same. \n",
        "\n",
        "The function runs for the following two cells illustrating that ``__add__`` and ``_matvec`` are correct"
      ]
    },
    {
      "cell_type": "code",
      "execution_count": 230,
      "metadata": {
        "id": "aHdo1BG6GK0X"
      },
      "outputs": [],
      "source": [
        "def add_sparse(A,B):\n",
        "  coo_A = coo_matrix(A)\n",
        "  A1 = CSRMatrix(coo_A)\n",
        "  B1 = csr_matrix(B)\n",
        "  # the data is added in csr_format\n",
        "  add = A1.__add__(B1)\n",
        "\n",
        "  # converting csr values to matrix\n",
        "  return add.toarray()\n",
        "\n",
        "def mv_sparse(A,v):\n",
        "    return A._matvec(v)\n",
        "\n",
        "def mv_dense(A,v):\n",
        "    return A @ v\n",
        "\n"
      ]
    },
    {
      "cell_type": "code",
      "execution_count": 231,
      "metadata": {
        "id": "Ws-TBqMOpP_o"
      },
      "outputs": [],
      "source": [
        "for n in range(0,110,10):\n",
        "  A = scipy.sparse.random(n,n,0.2)\n",
        "  B = scipy.sparse.random(n,n,0.2)\n",
        "  add1 = add_sparse(A,B) # class addition of sparse matrices\n",
        "  add2 = csr_matrix(A+B).toarray() # scipy addition of sparse matrices\n",
        "  assert np.allclose(add1,add2)"
      ]
    },
    {
      "cell_type": "code",
      "execution_count": 232,
      "metadata": {
        "id": "xVup9UUYpN6w"
      },
      "outputs": [],
      "source": [
        "for n in range(2,110,10):\n",
        "  A = scipy.sparse.random(n,n,0.2)\n",
        "  v = np.random.rand(n)\n",
        "  A2 = CSRMatrix(A)\n",
        "  A3 = A.toarray()  \n",
        "  mvm1 = mv_sparse(A2,v)\n",
        "  mvm2 = mv_dense(A3,v)\n",
        "  assert np.allclose(mvm1,mvm2)"
      ]
    },
    {
      "cell_type": "markdown",
      "metadata": {
        "id": "rxN3sNSOck7f"
      },
      "source": [
        "### 1.3 Measuring the Time to perform a ``matvec`` product and required plots.\n"
      ]
    },
    {
      "cell_type": "code",
      "execution_count": 216,
      "metadata": {
        "id": "f4xK5XfvGwVA"
      },
      "outputs": [],
      "source": [
        "def matvec_time(operator,runs,N):\n",
        "  def op_time(operator,A,v,runs):\n",
        "    assign = {'mv_dense': mv_dense, 'mv_sparse': mv_sparse, 'A': A , 'v':v, \n",
        "       'A2': A2, 'A3': A3}\n",
        "    return timeit(lambda: operator(A,v), number = runs, globals = assign)\n",
        "  \n",
        "  output = []\n",
        "  for n in N:\n",
        "    A = scipy.sparse.random(n,n,0.2)\n",
        "    A2 = CSRMatrix(A)\n",
        "    A3 = A.toarray()\n",
        "    v = np.random.rand(n)\n",
        "\n",
        "    if operator == mv_sparse:\n",
        "      if runs <= 0:\n",
        "        raise ValueError(\"Input needs to be a positive integer\")\n",
        "      if runs == 1:\n",
        "        output.append(op_time(operator,A2,v,runs))\n",
        "      if runs > 1:\n",
        "        output.append(op_time(operator,A2,v,runs)/runs)\n",
        "      \n",
        "    if operator == mv_dense:\n",
        "      if runs <= 0:\n",
        "        raise ValueError(\"Input needs to be a positive integer\")\n",
        "      if runs == 1:\n",
        "          output.append(op_time(operator,A3,v,runs))\n",
        "      if runs > 1:\n",
        "        output.append(op_time(operator,A3,v,runs)/runs)\n",
        "  \n",
        "  return output\n"
      ]
    },
    {
      "cell_type": "code",
      "execution_count": 217,
      "metadata": {
        "colab": {
          "base_uri": "https://localhost:8080/"
        },
        "id": "IZ72vTiKK6mh",
        "outputId": "d0437d91-eab7-46e4-fa6f-c4a55e9f74bb"
      },
      "outputs": [],
      "source": [
        "dimes = N = range(2,627,25)\n",
        "ts = matvec_time(mv_sparse,10,N)\n",
        "td = matvec_time(mv_dense,10,N)"
      ]
    },
    {
      "cell_type": "code",
      "execution_count": 228,
      "metadata": {
        "colab": {
          "base_uri": "https://localhost:8080/",
          "height": 319
        },
        "id": "a1kKiKSNdtGD",
        "outputId": "dc396608-c763-4dd9-c8b7-024cb53fb0f3"
      },
      "outputs": [
        {
          "data": {
            "text/plain": [
              "Text(0.5, 1.0, 'Figure 1a: Runtime of Matrix-Vector Product for dimension $n$')"
            ]
          },
          "execution_count": 228,
          "metadata": {},
          "output_type": "execute_result"
        },
        {
          "data": {
            "image/png": "[encoded data removed]",
            "text/plain": [
              "<Figure size 432x288 with 1 Axes>"
            ]
          },
          "metadata": {
            "needs_background": "light"
          },
          "output_type": "display_data"
        }
      ],
      "source": [
        "plt.plot(dimes, np.log10(ts), \"r\", marker = \"o\")\n",
        "plt.plot(dimes, np.log10(td), \"b\", marker = \"o\")\n",
        "plt.xlabel(\"$n$ for square matrix and column vector\", size = \"10\")\n",
        "plt.ylabel(\"$Log_{10}$(Time) (s)\",size = \"10\")\n",
        "plt.legend([\"CSRMatrix._matvec\", \"@ from NumPy\"])\n",
        "plt.title(\"Figure 1a: Runtime of Matrix-Vector Product for dimension $n$\")"
      ]
    },
    {
      "cell_type": "markdown",
      "metadata": {
        "id": "je6ilrkyVVXT"
      },
      "source": [
        "**Note:** I only performed matrix vector products up to $ n = 600$, When I tried to reach because converting a coo_matrix with dimensions closer $n = 1000$ takes a considerable amount of time. I was not able to compute ``CSRMatrix`` for a sparse $1000 \\times 1000$ matrix within 30 mins.\n",
        "\n",
        "**Comments:** As the dimensions $n$ increase for the matrix and vector, one can see that the ``CSRMatrix._matvec`` runtime drastically increases from less than $10^{-5}$ seconds to $10^{-2}$ seconds. The ``@`` function from numpy increases at a slower rate for matrix vector multiplication (MVM), staying below $10^{-4}$ for all $n$ with the exception of $n = 477$. \n",
        "\n",
        "Despite the sparse format and efficiency of MVM using csr matrices. The use of two for loops means MVM is done element by element which will add to the computation time. Furthremore ``@`` is highly optimised using Basic Linear algebra Subprograms (BLAS) libraries and also performs MVM using the same sparse matrix A used in within ``CSRMatrix._matvec`` but in array form. It should be noted the ``CSRMatrix._matvec`` performs very fast runtimes, even faster than the MVM performed within the Class 1 exercises for a dense matrix which is what we would expect.\n",
        "\n",
        "\n"
      ]
    },
    {
      "cell_type": "markdown",
      "metadata": {
        "id": "vVI_0A2xygYM"
      },
      "source": [
        "### 1.4 Using gmres and cg sparse solvers for CSR matrix problems\n",
        "\n",
        "cg and gmres sparse solvers can only really be utilised for symmetric positive definite matrices, hence I've utilised the code from the HPC lecture notes and computed the symmetric matrix within my CSRMatrix class."
      ]
    },
    {
      "cell_type": "code",
      "execution_count": 234,
      "metadata": {
        "id": "wQGbmBKcX3vQ"
      },
      "outputs": [],
      "source": [
        "N =  np.arange(2,1027,25)\n",
        "gmres_sol = []\n",
        "cg_sol = []\n",
        "# Deviation between the two solutions\n",
        "for n in N:\n",
        "    data = [2.1*np.ones(n), -1.*np.ones(n - 1), -1.*np.ones(n - 1)]\n",
        "    offsets = [0, 1, -1]\n",
        "    A = diags(data, offsets=offsets, shape=(n,n), format = 'coo')\n",
        "    B = CSRMatrix(A)\n",
        "    v = np.random.rand(n)\n",
        "    s1,_ = gmres(B,v)\n",
        "    s2,_ = cg(B,v)\n",
        "    gmres_sol.append(s1)\n",
        "    cg_sol.append(s2)\n",
        "    "
      ]
    },
    {
      "cell_type": "code",
      "execution_count": 236,
      "metadata": {
        "colab": {
          "base_uri": "https://localhost:8080/"
        },
        "id": "hNe_zS0ms_8z",
        "outputId": "4af47366-77b7-4908-c1af-9a97cddbe5d7"
      },
      "outputs": [
        {
          "data": {
            "text/plain": [
              "Text(0.5, 1.0, 'Figure 1b: Maximum Error between CG and GMRES Solutions for $n$ dimensions ')"
            ]
          },
          "execution_count": 236,
          "metadata": {},
          "output_type": "execute_result"
        },
        {
          "data": {
            "image/png": "[encoded data removed]",
            "text/plain": [
              "<Figure size 432x288 with 1 Axes>"
            ]
          },
          "metadata": {
            "needs_background": "light"
          },
          "output_type": "display_data"
        }
      ],
      "source": [
        "x = gmres_sol\n",
        "y = cg_sol\n",
        "devs = []\n",
        "for i in range(len(x)):\n",
        "    deviation = np.abs(y[i]-x[i])\n",
        "    max_error = np.max(deviation[i])\n",
        "    devs.append(max_error)\n",
        "\n",
        "\n",
        "\n",
        "plt.plot(np.log10(N),np.log10(devs),\"b\", marker = \"o\")\n",
        "plt.xlabel(\"Log dimensions $\\log_{10}(n)$ for Matrix and Vector\", size = \"10\")\n",
        "plt.ylabel(\"$\\log_{10}$(Max Error) \",size = \"10\")\n",
        "plt.title(\"Figure 1b: Maximum Error between CG and GMRES Solutions for $n$ dimensions \")\n"
      ]
    },
    {
      "cell_type": "markdown",
      "metadata": {
        "id": "fBnbnRGzc17P"
      },
      "source": [
        "### 1.5 Comments\n",
        "\n",
        "For small matrices and vectors ($n<31$), the maximum error between solutions determined by GMRES and cg sparse solvers is incredible low, yielding errors $\\epsilon < 10^{-5}$, which is incredibly impressive and indicates a very high degree of accuracy. For larger matrices and vectors of dimensions $n = 31$ to $n = 1000$, the error increases to around $10^{-6} < \\epsilon < 10^{-4}$, which is quite impressive for $n = 1000$. \n",
        "\n",
        "CG and GMRES sparse solvers help find solutions for the the vector $x$ in the linear equation $Ax= b$ where $A$ is the matrix.The reason for the difference in solutions is how errors and residuals are calculated in CG and GMRES respectively. \n",
        "\n",
        "GMRES minimises the residuals and requires orthogonality with the Krylov subspace  \n",
        "$$\\mathcal{K}_m(A,b) := \\mathrm{span}(b, Ab, ... , A^{m-1}b)$$ \n",
        "\n",
        "such that $r_m \\perp A\\mathcal{K}_m$\n",
        "\n",
        "CG minimises the error between each point $x_i$ and $x$ (the actual solution) such that the error is orthogonal to the direction of each point $e_i^{T}d_i = 0$ where $e_i = x_i - x^{*}$ and $d_i = - \\nabla f(x_i)$. The CG method, one requires the m-th residual to orthogonal to the Krylov subspace component alone ($r_m \\perp K_m$). The difference between the miniminal residuals of GMRES being the matrix $A$ in the orthogonality condition. This could explain why CG has significantly faster convergence as well.\n"
      ]
    },
    {
      "cell_type": "markdown",
      "metadata": {
        "id": "HopqohJ8c3j7"
      },
      "source": [
        "# Part 2: Implementing a custom matrix\n",
        "\n",
        "### 2.1 Implementing a Scipy ``LinearOperator`` for matrices in custom matrix form\n",
        "\n",
        "\n",
        "\n"
      ]
    },
    {
      "cell_type": "code",
      "execution_count": 224,
      "metadata": {
        "id": "TuAHZxjmc8DK"
      },
      "outputs": [],
      "source": [
        "class CustomMatrix(LinearOperator):\n",
        " \n",
        "    def __init__(self,n):\n",
        "\n",
        "      D = np.random.rand(n,n)\n",
        "      T = np.random.rand(n,2)\n",
        "      W = np.random.rand(2,n)\n",
        "\n",
        "      self.shape = (2*n, 2*n)\n",
        "      self.dtype = np.float64\n",
        "\n",
        "      diagonal = np.diag(np.diag(D)) # Generating the diagonal matrix in top left\n",
        "      dense = T @ W # Generating the block matrix formed by TW in bottom right\n",
        "      \n",
        "      ''' The final 2n x 2n matrix is generated below using scipy.linalg.block_diag '''\n",
        "      m = block_diag(diagonal,dense) \n",
        "\n",
        "      ''' The CSR form for data and indices can be retrieved straight away. However,\n",
        "      to obtain self.indptr, I will be storing the rows of m in coo_rows format in the\n",
        "      following for loops. Then converting coo_rows data to csr_indptr data. '''\n",
        "\n",
        "      self.data = []\n",
        "      self.indices = []\n",
        "      coo_rows = []\n",
        "    \n",
        "      '''Converting matrix data to csr and coo matrix formats for top left diagonal matrix \n",
        "      from 0 to n and the bottom right block matrix from n to 2n'''\n",
        "\n",
        "      for i in range(0,2*n): \n",
        "        for j in range(0,2*n):\n",
        "          coo_rows.append(i)\n",
        "          self.indices.append(j)\n",
        "          self.data.append(m[i,j])      \n",
        "   \n",
        "      ''' Converting coo_matrix rows to csr_matrix indptr'''\n",
        "      # Need robust sequence to convert coo_rows to csr_indptr\n",
        "      h = coo_rows\n",
        "      o = len(self.data)\n",
        "      n = max(h)\n",
        "      self.indptr = np.zeros(n+2,dtype = np.int64) # coo_rows is now list subscriptable\n",
        "      for j in range(o):\n",
        "          #csr_indptr must be one length greater than coo_rows\n",
        "          self.indptr[h[j]+1] += 1\n",
        "      for k in range(n+1):\n",
        "          self.indptr[k+1] += self.indptr[k]\n",
        "      \n",
        "    def _matvec(self, vector): # This function is the same as matvec for CSRMatrix class\n",
        "\n",
        "      ''' Using an assert statement to ensure the matrix and vector dimensions\n",
        "      match so that matrix vector multiplication can take place '''\n",
        "      assert self.shape[1] == vector.shape[0]\n",
        "\n",
        "      m = self.shape[1]\n",
        "      b = np.zeros(m, dtype=np.float64)\n",
        "\n",
        "      for i in range(m):\n",
        "          start = self.indptr[i]\n",
        "          end = self.indptr[i+1]\n",
        "          for j in range(start, end):\n",
        "              b[i] += self.data[j] * vector[self.indices[j]]\n",
        "\n",
        "      return b\n",
        "\n"
      ]
    },
    {
      "cell_type": "markdown",
      "metadata": {
        "id": "UQPxrGYcc9mY"
      },
      "source": [
        "I've opted to use the CSR data storing format similar to ``CSRMatrix``. Since the input of this matrix is not a coo_matrix. I can simply convert the data from the matrix straight to csr ``data`` and ``indices``. I opted to use a coo format to store rows and later convert to ``indptr`` due to added complexity. The ``_matvec`` function is the same as what was used in Part 1.\n",
        "\n",
        "### 2.2 Create matrices where the entries on the diagonal of the top-left block and in the matrices $T$ and $W$ are random numbers for a range of values of $n$. \n",
        "\n",
        "As can be seen from ``CustomMatrix(LinearOperator)``, I have included the components required for the top left diagonal $n \\times n$ matrix as well as the tall ($T$) and wide ($W$) matrices within the ``__init__`` function inside the class. This is beneficial as the only input required for this class is the number of dimensions $n$. \n",
        "\n",
        "I will again use an ``assert`` statement to ensure that the numpy ``@`` function provides the same as the ``CustomMatrix._matvec`` \n",
        "\n"
      ]
    },
    {
      "cell_type": "code",
      "execution_count": 225,
      "metadata": {
        "id": "Zd_pDIKxvwTt"
      },
      "outputs": [],
      "source": [
        "for n in range(1,200,5):\n",
        "  v = np.random.rand(2*n)\n",
        "  A = CustomMatrix(n)\n",
        "  A_csr = csr_matrix((A.data,A.indices,A.indptr), shape = A.shape)\n",
        "  A_class = A._matvec(v)\n",
        "  A_actual = A_csr.toarray() @ v\n",
        "  assert np.allclose(A_actual,A_class)\n",
        "\n"
      ]
    },
    {
      "cell_type": "markdown",
      "metadata": {
        "id": "KBST1bC37M_P"
      },
      "source": [
        "By converting ``A_csr`` to an array for the matrix $A$ with $n = 3$. The final matrix should have dimensions of $ 6 \\times 6$ for which the top left $3 \\times 3$ matrix should be diagonal and the bottom right $3 \\times 3$ block should be dense. This is exactly what is observed hence the entries of $n$ in the class have been successful."
      ]
    },
    {
      "cell_type": "code",
      "execution_count": 227,
      "metadata": {
        "id": "5bawLVf17H9o"
      },
      "outputs": [
        {
          "name": "stdout",
          "output_type": "stream",
          "text": [
            "[[0.68317891 0.         0.         0.         0.         0.        ]\n",
            " [0.         0.69202895 0.         0.         0.         0.        ]\n",
            " [0.         0.         0.6365183  0.         0.         0.        ]\n",
            " [0.         0.         0.         0.83530341 0.3517644  1.18245205]\n",
            " [0.         0.         0.         0.25180605 0.11978114 0.39962069]\n",
            " [0.         0.         0.         0.4866267  0.23454312 0.7819002 ]]\n"
          ]
        }
      ],
      "source": [
        "n = 3\n",
        "A = CustomMatrix(n)\n",
        "A_csr = csr_matrix((A.data,A.indices,A.indptr), shape = A.shape)\n",
        "print(A_csr.toarray())"
      ]
    },
    {
      "cell_type": "markdown",
      "metadata": {
        "id": "0MdAk0-gdBap"
      },
      "source": [
        "As can be seen by the cell above, the matrix vector product from ``matvec`` in ``CustomMatrix(LinearOperator)`` and ``@`` from Numpy are the same.\n",
        "\n",
        "### 2.3 Compute matrix-vector products for each matrix and measure the time taken to compute these.\n",
        "\n",
        "The question is quite ambiguous. I interpret this question to ask how will various ways a matrix can be stored affect the runtime of the matrix vector product. For this reason, I will store the matrix in a COO (COOrdinate format), CSR (compressed sparse row), CSC (compressed sparse column) format using the scipy library. I will also use the following sparse matrix forms from scipy: \n",
        "\n",
        "\n",
        "1. ``dok_matrix``: Dictionary of keys based sparse matrix\n",
        "2. ``lil_matrix``: Ros based list of lists sparse matrix.\n",
        "\n",
        "I've chosen to abandon using ``dia_matrix``: DIAgonal storage sparse matrix as for higher dimensions $n$, the sparse storage method of diagonal entries became very inefficient as dimension $n$ increased.\n",
        "\n",
        "From the numpy library, I will just utilise a simple ``np.matrix``. This will all be compared to the ``_matvec`` function from the class ``CustomMatrix``"
      ]
    },
    {
      "cell_type": "code",
      "execution_count": 13,
      "metadata": {
        "colab": {
          "background_save": true
        },
        "id": "cP2SvrGM8FM2"
      },
      "outputs": [],
      "source": [
        "def mv_cust(A,v):\n",
        "  return A @ v\n",
        "\n",
        "def mv_cmvp(A,v):\n",
        "  return A._matvec(v)\n",
        "\n",
        "def cust_matvec_time(operator,runs,N,type):\n",
        "  def op_time(operator,A,v,runs):\n",
        "    assign = {'mv_cust': mv_cust, 'mv_cmvp': mv_cmvp, 'A': A ,'v':v}\n",
        "    return timeit(lambda: operator(A,v), number = runs, globals = assign)\n",
        "  \n",
        "  output = []\n",
        "  for n in N:\n",
        "    A = CustomMatrix(n)\n",
        "    v = np.random.rand(2*n)\n",
        "    # Use mv_cust\n",
        "    A_csr = csr_matrix((A.data,A.indices,A.indptr), shape = A.shape)\n",
        "    A_coo = coo_matrix(A_csr)\n",
        "    A_csc = csc_matrix(A_csr)\n",
        "    A_dok = dok_matrix(A_csr)\n",
        "    A_lil = lil_matrix(A_csr)\n",
        "    A_npm = np.matrix(A_csr.toarray())\n",
        "    \n",
        "    # use mv_mvp for Class Matrix Vector Product\n",
        "\n",
        "    if type == 'csr':\n",
        "      if runs <= 0:\n",
        "        raise ValueError(\"Input needs to be a positive integer\")\n",
        "      if runs == 1:\n",
        "          output.append(op_time(operator,A_csr,v,runs))\n",
        "      if runs > 1:\n",
        "        output.append(op_time(operator,A_csr,v,runs)/runs)\n",
        "    \n",
        "    if type == 'coo':\n",
        "      if runs <= 0:\n",
        "        raise ValueError(\"Input needs to be a positive integer\")\n",
        "      if runs == 1:\n",
        "          output.append(op_time(operator,A_coo,v,runs))\n",
        "      if runs > 1:\n",
        "        output.append(op_time(operator,A_coo,v,runs)/runs)\n",
        "    \n",
        "    if type == 'csc':\n",
        "      if runs <= 0:\n",
        "        raise ValueError(\"Input needs to be a positive integer\")\n",
        "      if runs == 1:\n",
        "          output.append(op_time(operator,A_csc,v,runs))\n",
        "      if runs > 1:\n",
        "        output.append(op_time(operator,A_csc,v,runs)/runs)\n",
        "    \n",
        "    if type == 'dok':\n",
        "      if runs <= 0:\n",
        "        raise ValueError(\"Input needs to be a positive integer\")\n",
        "      if runs == 1:\n",
        "          output.append(op_time(operator,A_dok,v,runs))\n",
        "      if runs > 1:\n",
        "        output.append(op_time(operator,A_dok,v,runs)/runs)\n",
        "\n",
        "    if type == 'lil':\n",
        "      if runs <= 0:\n",
        "        raise ValueError(\"Input needs to be a positive integer\")\n",
        "      if runs == 1:\n",
        "          output.append(op_time(operator,A_lil,v,runs))\n",
        "      if runs > 1:\n",
        "        output.append(op_time(operator,A_lil,v,runs)/runs)\n",
        "    \n",
        "    if type == 'np':\n",
        "      if runs <= 0:\n",
        "        raise ValueError(\"Input needs to be a positive integer\")\n",
        "      if runs == 1:\n",
        "          output.append(op_time(operator,A_npm,v,runs))\n",
        "      if runs > 1:\n",
        "        output.append(op_time(operator,A_npm,v,runs)/runs)\n",
        "    \n",
        "    if type == 'cmvp':\n",
        "      if runs <= 0:\n",
        "        raise ValueError(\"Input needs to be a positive integer\")\n",
        "      if runs == 1:\n",
        "          output.append(op_time(operator,A,v,runs))\n",
        "      if runs > 1:\n",
        "        output.append(op_time(operator,A,v,runs)/runs)\n",
        "    \n",
        "    \n",
        "  return output"
      ]
    },
    {
      "cell_type": "code",
      "execution_count": 65,
      "metadata": {
        "id": "4lc6sboUnRqc"
      },
      "outputs": [],
      "source": [
        "dimes = N = range(1,850,25)\n",
        "csr = cust_matvec_time(mv_cust,10,N,'csr') # CSR matrix\n",
        "coo = cust_matvec_time(mv_cust,10,N,'coo') # COO matrix\n",
        "csc = cust_matvec_time(mv_cust,10,N,'csc') # CSC matrix\n",
        "dok = cust_matvec_time(mv_cust,10,N,'dok')# DOK matrix\n",
        "lil = cust_matvec_time(mv_cust,10,N,'lil') # LIL matrix\n",
        "npm = cust_matvec_time(mv_cust,10,N,'np') # Numpy Matrix\n",
        "cmvp = cust_matvec_time(mv_cmvp,10,N,'cmvp') # Matvec from My CustomMatrix class"
      ]
    },
    {
      "cell_type": "markdown",
      "metadata": {
        "id": "iA_y2qbtdHmv"
      },
      "source": [
        "### 2.4 Make plots showing the runtime against $n$, comment (2-4 sentences) on what the plot shows and why one of the methods is faster."
      ]
    },
    {
      "cell_type": "code",
      "execution_count": 66,
      "metadata": {
        "colab": {
          "base_uri": "https://localhost:8080/",
          "height": 318
        },
        "id": "gfy4fYdDdIQI",
        "outputId": "64a6eb54-842d-45bb-c590-b1347e10bdf8"
      },
      "outputs": [
        {
          "data": {
            "text/plain": [
              "<matplotlib.legend.Legend at 0x7f9f4acbb820>"
            ]
          },
          "execution_count": 66,
          "metadata": {},
          "output_type": "execute_result"
        },
        {
          "data": {
            "image/png": "[encoded data removed]",
            "text/plain": [
              "<Figure size 432x288 with 1 Axes>"
            ]
          },
          "metadata": {
            "needs_background": "light"
          },
          "output_type": "display_data"
        }
      ],
      "source": [
        "plt.plot(dimes,np.log10(csr), \"blue\", linestyle='--', marker = \"o\")\n",
        "plt.plot(dimes,np.log10(coo), \"black\", linestyle='--', marker = \"o\")\n",
        "plt.plot(dimes,np.log10(csc), \"red\", linestyle='--', marker = \"o\")\n",
        "plt.plot(dimes,np.log10(dok), \"orange\", marker = \"*\")\n",
        "plt.plot(dimes,np.log10(lil), \"blue\", marker = \"*\")\n",
        "plt.plot(dimes,np.log10(npm), \"black\", marker = \"*\")\n",
        "plt.plot(dimes,np.log10(cmvp), \"red\")\n",
        "plt.title(\"Figure 2: Matrix Vector Product for Various Matrix Storage Methods\", size = \"14\")\n",
        "plt.xlabel(\"Dimensions $n$\", size = \"12\")\n",
        "plt.ylabel(\"Matrix Vector Product Runtime\", size = \"12\")\n",
        "plt.legend([\"CSR\", \"COO\", \"CSC\", \"DOK\", \"LIL\", \"np.Matrix\",\"My Class\"])\n"
      ]
    },
    {
      "cell_type": "markdown",
      "metadata": {},
      "source": [
        "### Comments: \n",
        "\n",
        "From Figure 3 above, one can observe that the best runtime for each matrix storage form is as follows:\n",
        "\n",
        "1. Numpy Matrix Format\n",
        "2. CSC Matrix\n",
        "3. CSR Matrix\n",
        "4. COO Matrix\n",
        "5. LIL matrix\n",
        "6. DOK matrix & ``CustomMatrix Class``\n",
        "\n",
        "Numpy matrices have the best runtime for matrix-vector multiplication (MVM). Scipy utilises old C libraries which cannot compete with the highly optimised BLAS that numpy utilises [1].\n",
        "\n",
        "Of the scipy matrix storage formats, CSC has the fastest runtime as it stores matrices in column vector form, which for MVM is much more preferable as its the \"column\" of the matrix being multiplied by the \"row\" of the vector.\n",
        "\n",
        "CSR only falls slightly behind as CSC has the column operation advantage over rows for matrix-vector multiplication; CSR utilises compressed data storage like CSC, storing less data in the matrix, meaning it's faster than COO, LIL and DOK matrices which do not have compressed data when performing an intensive task like matrix-vector multiplication. \n",
        "\n",
        "The ``CustomMatrix_.matvec`` MVM is slow relative to the others as they are utilising the numpy ``@`` function whereas CustomMatrix, although utilising a CSR format still requires two for-loops which increases runtime as more computations are required.\n",
        "\n",
        "### References:\n",
        "\n",
        "[1] Van De Geijn, R.A. and Quintana-Ortí, E.S., 2008. The science of programming matrix computations"
      ]
    }
  ],
  "metadata": {
    "colab": {
      "provenance": []
    },
    "kernelspec": {
      "display_name": "Python 3.9.7 ('base')",
      "language": "python",
      "name": "python3"
    },
    "language_info": {
      "codemirror_mode": {
        "name": "ipython",
        "version": 3
      },
      "file_extension": ".py",
      "mimetype": "text/x-python",
      "name": "python",
      "nbconvert_exporter": "python",
      "pygments_lexer": "ipython3",
      "version": "3.9.7 (default, Sep 16 2021, 08:50:36) \n[Clang 10.0.0 ]"
    },
    "vscode": {
      "interpreter": {
        "hash": "59935f86178168e078fcf80474e5d69591c0a24a743a95743b6051e212169869"
      }
    }
  },
  "nbformat": 4,
  "nbformat_minor": 0
}
